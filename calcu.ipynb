{
 "cells": [
  {
   "cell_type": "code",
   "execution_count": 1,
   "id": "04ece304",
   "metadata": {},
   "outputs": [
    {
     "name": "stdout",
     "output_type": "stream",
     "text": [
      "sum:  7.0\n",
      "difference:  -1.0\n",
      "product:  12.0\n",
      "quotient:  0.75\n"
     ]
    }
   ],
   "source": [
    "# Ask user for a number for calculation\n",
    "a = float(input(\"Enter a number: \"))\n",
    "b = float(input(\"Enter a number: \"))\n",
    "# Perform \n",
    "addition = a + b\n",
    "difference = a - b\n",
    "product = a * b\n",
    "quotient = a / b if b != 0 else \"undefined (division by zero)\"\n",
    "\n",
    "# Display \n",
    "print(\"sum: \", addition)\n",
    "print(\"difference: \", difference)\n",
    "print(\"product: \", product)\n",
    "print(\"quotient: \", quotient)"
   ]
  }
 ],
 "metadata": {
  "kernelspec": {
   "display_name": "Python 3",
   "language": "python",
   "name": "python3"
  },
  "language_info": {
   "codemirror_mode": {
    "name": "ipython",
    "version": 3
   },
   "file_extension": ".py",
   "mimetype": "text/x-python",
   "name": "python",
   "nbconvert_exporter": "python",
   "pygments_lexer": "ipython3",
   "version": "3.13.7"
  }
 },
 "nbformat": 4,
 "nbformat_minor": 5
}
