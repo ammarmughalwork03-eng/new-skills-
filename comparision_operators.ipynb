{
 "cells": [
  {
   "cell_type": "code",
   "execution_count": 1,
   "id": "cddcf807",
   "metadata": {},
   "outputs": [
    {
     "name": "stdout",
     "output_type": "stream",
     "text": [
      "True\n"
     ]
    }
   ],
   "source": [
    "# Example 1: Age check\n",
    "age = 20\n",
    "print(age >=18) # True\n"
   ]
  },
  {
   "cell_type": "code",
   "execution_count": 3,
   "id": "86dddc80",
   "metadata": {},
   "outputs": [
    {
     "name": "stdout",
     "output_type": "stream",
     "text": [
      "True\n"
     ]
    }
   ],
   "source": [
    "# Example 2: Password Check\n",
    "password = \"1356\"\n",
    "print (password == \"1356\") # True\n"
   ]
  },
  {
   "cell_type": "code",
   "execution_count": 4,
   "id": "3dd7d112",
   "metadata": {},
   "outputs": [
    {
     "name": "stdout",
     "output_type": "stream",
     "text": [
      "True\n"
     ]
    }
   ],
   "source": [
    "# Example 3: GPA check\n",
    "gpa = 3.5\n",
    "print(gpa < 4.0) # True"
   ]
  },
  {
   "cell_type": "code",
   "execution_count": 5,
   "id": "d30bd0e7",
   "metadata": {},
   "outputs": [
    {
     "name": "stdout",
     "output_type": "stream",
     "text": [
      "True\n"
     ]
    }
   ],
   "source": [
    "# Example 4: Comparing prices\n",
    "price1 = 100\n",
    "price2 = 150\n",
    "print (price1 != price2) # True\n"
   ]
  }
 ],
 "metadata": {
  "kernelspec": {
   "display_name": "Python 3",
   "language": "python",
   "name": "python3"
  },
  "language_info": {
   "codemirror_mode": {
    "name": "ipython",
    "version": 3
   },
   "file_extension": ".py",
   "mimetype": "text/x-python",
   "name": "python",
   "nbconvert_exporter": "python",
   "pygments_lexer": "ipython3",
   "version": "3.13.7"
  }
 },
 "nbformat": 4,
 "nbformat_minor": 5
}
