{
 "cells": [
  {
   "cell_type": "code",
   "execution_count": 8,
   "id": "a83fc39f",
   "metadata": {},
   "outputs": [
    {
     "name": "stdout",
     "output_type": "stream",
     "text": [
      "Your total marks are:  38.333333333333336\n"
     ]
    }
   ],
   "source": [
    "#asking user for their marks of three subjects\n",
    "English =float(input (\"Enter your marks of English: \"))\n",
    "Urdu =float(input (\"Enter your marks of Urdu: \"))\n",
    "Math =float(input (\"Enter your marks of Math: \"))\n",
    "#calculating average\n",
    "average =(English + Urdu + Math) /3\n",
    "#displaying total marks\n",
    "print(\"Your total marks are: \", average)      "
   ]
  }
 ],
 "metadata": {
  "kernelspec": {
   "display_name": "Python 3",
   "language": "python",
   "name": "python3"
  },
  "language_info": {
   "codemirror_mode": {
    "name": "ipython",
    "version": 3
   },
   "file_extension": ".py",
   "mimetype": "text/x-python",
   "name": "python",
   "nbconvert_exporter": "python",
   "pygments_lexer": "ipython3",
   "version": "3.13.7"
  }
 },
 "nbformat": 4,
 "nbformat_minor": 5
}
